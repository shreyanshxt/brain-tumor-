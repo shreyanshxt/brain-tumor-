{
  "nbformat": 4,
  "nbformat_minor": 0,
  "metadata": {
    "colab": {
      "provenance": [],
      "authorship_tag": "ABX9TyNxTAs+wIr0S4OeVDzc0aVe",
      "include_colab_link": true
    },
    "kernelspec": {
      "name": "python3",
      "display_name": "Python 3"
    },
    "language_info": {
      "name": "python"
    }
  },
  "cells": [
    {
      "cell_type": "markdown",
      "metadata": {
        "id": "view-in-github",
        "colab_type": "text"
      },
      "source": [
        "<a href=\"https://colab.research.google.com/github/shreyanshxt/brain-tumor-/blob/main/BRAIN_TUMOR.ipynb\" target=\"_parent\"><img src=\"https://colab.research.google.com/assets/colab-badge.svg\" alt=\"Open In Colab\"/></a>"
      ]
    },
    {
      "cell_type": "code",
      "execution_count": 1,
      "metadata": {
        "colab": {
          "base_uri": "https://localhost:8080/"
        },
        "id": "wEi39qe7qAZG",
        "outputId": "43f1c599-010d-4c54-e43e-10e22ca496d6"
      },
      "outputs": [
        {
          "output_type": "stream",
          "name": "stdout",
          "text": [
            "Requirement already satisfied: nibabel in /usr/local/lib/python3.11/dist-packages (5.3.2)\n",
            "Requirement already satisfied: importlib-resources>=5.12 in /usr/local/lib/python3.11/dist-packages (from nibabel) (6.5.2)\n",
            "Requirement already satisfied: numpy>=1.22 in /usr/local/lib/python3.11/dist-packages (from nibabel) (2.0.2)\n",
            "Requirement already satisfied: packaging>=20 in /usr/local/lib/python3.11/dist-packages (from nibabel) (24.2)\n",
            "Requirement already satisfied: typing-extensions>=4.6 in /usr/local/lib/python3.11/dist-packages (from nibabel) (4.13.2)\n"
          ]
        }
      ],
      "source": [
        "!pip install nibabel\n"
      ]
    },
    {
      "cell_type": "code",
      "source": [
        "!pip install nilearn"
      ],
      "metadata": {
        "colab": {
          "base_uri": "https://localhost:8080/"
        },
        "id": "bM5mUVbdxjID",
        "outputId": "38010096-c7a3-46b1-b88a-fac1356f28e1"
      },
      "execution_count": 2,
      "outputs": [
        {
          "output_type": "stream",
          "name": "stdout",
          "text": [
            "Collecting nilearn\n",
            "  Downloading nilearn-0.11.1-py3-none-any.whl.metadata (9.3 kB)\n",
            "Requirement already satisfied: joblib>=1.2.0 in /usr/local/lib/python3.11/dist-packages (from nilearn) (1.4.2)\n",
            "Requirement already satisfied: lxml in /usr/local/lib/python3.11/dist-packages (from nilearn) (5.4.0)\n",
            "Requirement already satisfied: nibabel>=5.2.0 in /usr/local/lib/python3.11/dist-packages (from nilearn) (5.3.2)\n",
            "Requirement already satisfied: numpy>=1.22.4 in /usr/local/lib/python3.11/dist-packages (from nilearn) (2.0.2)\n",
            "Requirement already satisfied: packaging in /usr/local/lib/python3.11/dist-packages (from nilearn) (24.2)\n",
            "Requirement already satisfied: pandas>=2.2.0 in /usr/local/lib/python3.11/dist-packages (from nilearn) (2.2.2)\n",
            "Requirement already satisfied: requests>=2.25.0 in /usr/local/lib/python3.11/dist-packages (from nilearn) (2.32.3)\n",
            "Requirement already satisfied: scikit-learn>=1.4.0 in /usr/local/lib/python3.11/dist-packages (from nilearn) (1.6.1)\n",
            "Requirement already satisfied: scipy>=1.8.0 in /usr/local/lib/python3.11/dist-packages (from nilearn) (1.15.2)\n",
            "Requirement already satisfied: importlib-resources>=5.12 in /usr/local/lib/python3.11/dist-packages (from nibabel>=5.2.0->nilearn) (6.5.2)\n",
            "Requirement already satisfied: typing-extensions>=4.6 in /usr/local/lib/python3.11/dist-packages (from nibabel>=5.2.0->nilearn) (4.13.2)\n",
            "Requirement already satisfied: python-dateutil>=2.8.2 in /usr/local/lib/python3.11/dist-packages (from pandas>=2.2.0->nilearn) (2.9.0.post0)\n",
            "Requirement already satisfied: pytz>=2020.1 in /usr/local/lib/python3.11/dist-packages (from pandas>=2.2.0->nilearn) (2025.2)\n",
            "Requirement already satisfied: tzdata>=2022.7 in /usr/local/lib/python3.11/dist-packages (from pandas>=2.2.0->nilearn) (2025.2)\n",
            "Requirement already satisfied: charset-normalizer<4,>=2 in /usr/local/lib/python3.11/dist-packages (from requests>=2.25.0->nilearn) (3.4.1)\n",
            "Requirement already satisfied: idna<4,>=2.5 in /usr/local/lib/python3.11/dist-packages (from requests>=2.25.0->nilearn) (3.10)\n",
            "Requirement already satisfied: urllib3<3,>=1.21.1 in /usr/local/lib/python3.11/dist-packages (from requests>=2.25.0->nilearn) (2.4.0)\n",
            "Requirement already satisfied: certifi>=2017.4.17 in /usr/local/lib/python3.11/dist-packages (from requests>=2.25.0->nilearn) (2025.4.26)\n",
            "Requirement already satisfied: threadpoolctl>=3.1.0 in /usr/local/lib/python3.11/dist-packages (from scikit-learn>=1.4.0->nilearn) (3.6.0)\n",
            "Requirement already satisfied: six>=1.5 in /usr/local/lib/python3.11/dist-packages (from python-dateutil>=2.8.2->pandas>=2.2.0->nilearn) (1.17.0)\n",
            "Downloading nilearn-0.11.1-py3-none-any.whl (10.5 MB)\n",
            "\u001b[2K   \u001b[90m━━━━━━━━━━━━━━━━━━━━━━━━━━━━━━━━━━━━━━━━\u001b[0m \u001b[32m10.5/10.5 MB\u001b[0m \u001b[31m29.5 MB/s\u001b[0m eta \u001b[36m0:00:00\u001b[0m\n",
            "\u001b[?25hInstalling collected packages: nilearn\n",
            "Successfully installed nilearn-0.11.1\n"
          ]
        }
      ]
    },
    {
      "cell_type": "code",
      "source": [
        "Original NIfTI (.nii) files\n",
        "     ↓\n",
        "[ANTs Registration] → aligned_suv.nii\n",
        "     ↓\n",
        "[Convert to NumPy] → aligned_suv.npy + cbf.npy\n",
        "     ↓\n",
        "[Stack or Train]   → [SUV, CBF] as input to your ViT\n"
      ],
      "metadata": {
        "id": "LqjXHUro88MG"
      },
      "execution_count": null,
      "outputs": []
    },
    {
      "cell_type": "code",
      "source": [
        "#convert all the files in .suv folder to a .numpy format\n",
        "import os\n",
        "import numpy as np\n",
        "suv_folder=\"/content/sample_data/(.suv)\"\n",
        "output_folder=\"/content/sample_data/output_folder\"\n",
        "os.makedirs(output_folder,exist_ok=True)\n",
        "for filename in os.listdir(suv_folder):\n",
        "  if filename.endswith(\".nii\"):\n",
        "    img=nib.load(os.path.join(suv_folder,filename))\n",
        "    data=img.get_fdata()\n",
        "    np.save((os.path.join(output_folder,filename.replace(\".nii\",\".npy\"))),data)\n",
        "\n",
        "\n"
      ],
      "metadata": {
        "id": "6KT6yz322OCk"
      },
      "execution_count": null,
      "outputs": []
    },
    {
      "cell_type": "code",
      "source": [
        "#convert all the files in .cbf folder to a .numpy format\n",
        "import os\n",
        "import numpy as np\n",
        "suv_folder=\"/content/sample_data/(.cbf)\"\n",
        "output_folder=\"/content/sample_data/output_folder2\"\n",
        "os.makedirs(output_folder,exist_ok=True)\n",
        "for filename in os.listdir(suv_folder):\n",
        "  if filename.endswith(\".nii\"):\n",
        "    img=nib.load(os.path.join(suv_folder,filename))\n",
        "    data=img.get_fdata()\n",
        "    np.save((os.path.join(output_folder,filename.replace(\".nii\",\".npy\"))),data)\n",
        "\n",
        "\n"
      ],
      "metadata": {
        "id": "jygWzqWgHGcP"
      },
      "execution_count": null,
      "outputs": []
    },
    {
      "cell_type": "code",
      "source": [
        "!pip install antspyx\n"
      ],
      "metadata": {
        "colab": {
          "base_uri": "https://localhost:8080/"
        },
        "id": "nS-Ppd1d6ee2",
        "outputId": "b2bd75d2-faae-49f6-e46c-696bf50bf04f"
      },
      "execution_count": 7,
      "outputs": [
        {
          "output_type": "stream",
          "name": "stdout",
          "text": [
            "Collecting antspyx\n",
            "  Downloading antspyx-0.5.4-cp311-cp311-manylinux_2_17_x86_64.manylinux2014_x86_64.whl.metadata (6.7 kB)\n",
            "Requirement already satisfied: pandas in /usr/local/lib/python3.11/dist-packages (from antspyx) (2.2.2)\n",
            "Requirement already satisfied: pyyaml in /usr/local/lib/python3.11/dist-packages (from antspyx) (6.0.2)\n",
            "Collecting numpy<=2.0.1 (from antspyx)\n",
            "  Downloading numpy-2.0.1-cp311-cp311-manylinux_2_17_x86_64.manylinux2014_x86_64.whl.metadata (60 kB)\n",
            "\u001b[2K     \u001b[90m━━━━━━━━━━━━━━━━━━━━━━━━━━━━━━━━━━━━━━━━\u001b[0m \u001b[32m60.9/60.9 kB\u001b[0m \u001b[31m2.5 MB/s\u001b[0m eta \u001b[36m0:00:00\u001b[0m\n",
            "\u001b[?25hRequirement already satisfied: statsmodels in /usr/local/lib/python3.11/dist-packages (from antspyx) (0.14.4)\n",
            "Requirement already satisfied: webcolors in /usr/local/lib/python3.11/dist-packages (from antspyx) (24.11.1)\n",
            "Requirement already satisfied: matplotlib in /usr/local/lib/python3.11/dist-packages (from antspyx) (3.10.0)\n",
            "Requirement already satisfied: Pillow in /usr/local/lib/python3.11/dist-packages (from antspyx) (11.2.1)\n",
            "Requirement already satisfied: requests in /usr/local/lib/python3.11/dist-packages (from antspyx) (2.32.3)\n",
            "Requirement already satisfied: contourpy>=1.0.1 in /usr/local/lib/python3.11/dist-packages (from matplotlib->antspyx) (1.3.2)\n",
            "Requirement already satisfied: cycler>=0.10 in /usr/local/lib/python3.11/dist-packages (from matplotlib->antspyx) (0.12.1)\n",
            "Requirement already satisfied: fonttools>=4.22.0 in /usr/local/lib/python3.11/dist-packages (from matplotlib->antspyx) (4.57.0)\n",
            "Requirement already satisfied: kiwisolver>=1.3.1 in /usr/local/lib/python3.11/dist-packages (from matplotlib->antspyx) (1.4.8)\n",
            "Requirement already satisfied: packaging>=20.0 in /usr/local/lib/python3.11/dist-packages (from matplotlib->antspyx) (24.2)\n",
            "Requirement already satisfied: pyparsing>=2.3.1 in /usr/local/lib/python3.11/dist-packages (from matplotlib->antspyx) (3.2.3)\n",
            "Requirement already satisfied: python-dateutil>=2.7 in /usr/local/lib/python3.11/dist-packages (from matplotlib->antspyx) (2.9.0.post0)\n",
            "Requirement already satisfied: pytz>=2020.1 in /usr/local/lib/python3.11/dist-packages (from pandas->antspyx) (2025.2)\n",
            "Requirement already satisfied: tzdata>=2022.7 in /usr/local/lib/python3.11/dist-packages (from pandas->antspyx) (2025.2)\n",
            "Requirement already satisfied: charset-normalizer<4,>=2 in /usr/local/lib/python3.11/dist-packages (from requests->antspyx) (3.4.1)\n",
            "Requirement already satisfied: idna<4,>=2.5 in /usr/local/lib/python3.11/dist-packages (from requests->antspyx) (3.10)\n",
            "Requirement already satisfied: urllib3<3,>=1.21.1 in /usr/local/lib/python3.11/dist-packages (from requests->antspyx) (2.4.0)\n",
            "Requirement already satisfied: certifi>=2017.4.17 in /usr/local/lib/python3.11/dist-packages (from requests->antspyx) (2025.4.26)\n",
            "Requirement already satisfied: scipy!=1.9.2,>=1.8 in /usr/local/lib/python3.11/dist-packages (from statsmodels->antspyx) (1.15.2)\n",
            "Requirement already satisfied: patsy>=0.5.6 in /usr/local/lib/python3.11/dist-packages (from statsmodels->antspyx) (1.0.1)\n",
            "Requirement already satisfied: six>=1.5 in /usr/local/lib/python3.11/dist-packages (from python-dateutil>=2.7->matplotlib->antspyx) (1.17.0)\n",
            "Downloading antspyx-0.5.4-cp311-cp311-manylinux_2_17_x86_64.manylinux2014_x86_64.whl (22.2 MB)\n",
            "\u001b[2K   \u001b[90m━━━━━━━━━━━━━━━━━━━━━━━━━━━━━━━━━━━━━━━━\u001b[0m \u001b[32m22.2/22.2 MB\u001b[0m \u001b[31m88.5 MB/s\u001b[0m eta \u001b[36m0:00:00\u001b[0m\n",
            "\u001b[?25hDownloading numpy-2.0.1-cp311-cp311-manylinux_2_17_x86_64.manylinux2014_x86_64.whl (19.5 MB)\n",
            "\u001b[2K   \u001b[90m━━━━━━━━━━━━━━━━━━━━━━━━━━━━━━━━━━━━━━━━\u001b[0m \u001b[32m19.5/19.5 MB\u001b[0m \u001b[31m86.9 MB/s\u001b[0m eta \u001b[36m0:00:00\u001b[0m\n",
            "\u001b[?25hInstalling collected packages: numpy, antspyx\n",
            "  Attempting uninstall: numpy\n",
            "    Found existing installation: numpy 2.0.2\n",
            "    Uninstalling numpy-2.0.2:\n",
            "      Successfully uninstalled numpy-2.0.2\n",
            "Successfully installed antspyx-0.5.4 numpy-2.0.1\n"
          ]
        }
      ]
    },
    {
      "cell_type": "code",
      "source": [
        "#aligning the two suv and cbf\n",
        "import nibabel as nib\n",
        "import ants\n",
        "import os\n",
        "from os import path\n",
        "import numpy as np\n",
        "#loop to go through all teh files\n",
        "suv_img_path=\"/content/sub-patient20_SUV_z.nii\"\n",
        "cbf_img_path=\"/content/sub-patient20_cbf.nii\"\n",
        "\n",
        "\n",
        "base, ext = os.path.splitext(suv_img_path)\n",
        "cbf_img=ants.image_read(cbf_img_path)\n",
        "suv_img=ants.image_read(suv_img_path)\n",
        "suv_nii=nib.load(suv_img_path)\n",
        "cbf_nii=nib.load(cbf_img_path)\n",
        "\n",
        "img_cor_suv = ants.n4_bias_field_correction(suv_img)\n",
        "\n",
        "img_cor_cbf = ants.n4_bias_field_correction(cbf_img)\n",
        "# spacing\n",
        "def spacing(affine):\n",
        "  affine_data= affine.affine.astype(np.float64)\n",
        "  return tuple(np.sqrt((affine_data[:3, :3] ** 2).sum(axis=0)))\n",
        "\n",
        "#min max normalization\n",
        "def minmax(img_ants):\n",
        "  data=img_ants.numpy()\n",
        "  normalized=(data-data.min())/(data.max()-data.min() + 1e-8)\n",
        "  normalized = np.nan_to_num(normalized, nan=0.0, posinf=0.0, neginf=0.0)\n",
        "  new_img = nib.Nifti1Image(\n",
        "        normalized,\n",
        "        affine=img_ants.affine,\n",
        "        header=img_ants.header.copy()\n",
        "    )\n",
        "  return new_img # Return the new nibabel image\n",
        "\n",
        "\n",
        "norm_suv=minmax(img_cor_suv)\n",
        "norm_cbf=minmax(img_cor_cbf)\n",
        "\n",
        "#covert npy->ants\n",
        "ants_suv=ants.from_numpy(norm_suv.get_fdata())\n",
        "ants_cbf=ants.from_numpy(norm_cbf.get_fdata())\n",
        "\n",
        "#registration\n",
        "reg=ants.registration(fixed=ants_suv,moving=ants_cbf,type_of_transform='SyN')\n",
        "aligned_suv=reg['warpedmovout']\n",
        "suv_reg=base+'_registered_'+ext\n",
        "ants.image_write(aligned_suv,suv_reg)"
      ],
      "metadata": {
        "colab": {
          "base_uri": "https://localhost:8080/",
          "height": 332
        },
        "id": "kf-uWbzO5xbw",
        "outputId": "738110e1-014a-4356-f765-996afe3ba3f8"
      },
      "execution_count": 9,
      "outputs": [
        {
          "output_type": "error",
          "ename": "TypeError",
          "evalue": "Nifti1Pair.__init__() got an unexpected keyword argument 'spacing'",
          "traceback": [
            "\u001b[0;31m---------------------------------------------------------------------------\u001b[0m",
            "\u001b[0;31mTypeError\u001b[0m                                 Traceback (most recent call last)",
            "\u001b[0;32m<ipython-input-9-9bfc6aaa88d3>\u001b[0m in \u001b[0;36m<cell line: 0>\u001b[0;34m()\u001b[0m\n\u001b[1;32m     37\u001b[0m \u001b[0;34m\u001b[0m\u001b[0m\n\u001b[1;32m     38\u001b[0m \u001b[0;34m\u001b[0m\u001b[0m\n\u001b[0;32m---> 39\u001b[0;31m \u001b[0mnorm_suv\u001b[0m\u001b[0;34m=\u001b[0m\u001b[0mminmax\u001b[0m\u001b[0;34m(\u001b[0m\u001b[0mimg_cor_suv\u001b[0m\u001b[0;34m)\u001b[0m\u001b[0;34m\u001b[0m\u001b[0;34m\u001b[0m\u001b[0m\n\u001b[0m\u001b[1;32m     40\u001b[0m \u001b[0mnorm_cbf\u001b[0m\u001b[0;34m=\u001b[0m\u001b[0mminmax\u001b[0m\u001b[0;34m(\u001b[0m\u001b[0mimg_cor_cbf\u001b[0m\u001b[0;34m)\u001b[0m\u001b[0;34m\u001b[0m\u001b[0;34m\u001b[0m\u001b[0m\n\u001b[1;32m     41\u001b[0m \u001b[0;34m\u001b[0m\u001b[0m\n",
            "\u001b[0;32m<ipython-input-9-9bfc6aaa88d3>\u001b[0m in \u001b[0;36mminmax\u001b[0;34m(img_ants)\u001b[0m\n\u001b[1;32m     29\u001b[0m   \u001b[0mnormalized\u001b[0m\u001b[0;34m=\u001b[0m\u001b[0;34m(\u001b[0m\u001b[0mdata\u001b[0m\u001b[0;34m-\u001b[0m\u001b[0mdata\u001b[0m\u001b[0;34m.\u001b[0m\u001b[0mmin\u001b[0m\u001b[0;34m(\u001b[0m\u001b[0;34m)\u001b[0m\u001b[0;34m)\u001b[0m\u001b[0;34m/\u001b[0m\u001b[0;34m(\u001b[0m\u001b[0mdata\u001b[0m\u001b[0;34m.\u001b[0m\u001b[0mmax\u001b[0m\u001b[0;34m(\u001b[0m\u001b[0;34m)\u001b[0m\u001b[0;34m-\u001b[0m\u001b[0mdata\u001b[0m\u001b[0;34m.\u001b[0m\u001b[0mmin\u001b[0m\u001b[0;34m(\u001b[0m\u001b[0;34m)\u001b[0m \u001b[0;34m+\u001b[0m \u001b[0;36m1e-8\u001b[0m\u001b[0;34m)\u001b[0m\u001b[0;34m\u001b[0m\u001b[0;34m\u001b[0m\u001b[0m\n\u001b[1;32m     30\u001b[0m   \u001b[0mnormalized\u001b[0m \u001b[0;34m=\u001b[0m \u001b[0mnp\u001b[0m\u001b[0;34m.\u001b[0m\u001b[0mnan_to_num\u001b[0m\u001b[0;34m(\u001b[0m\u001b[0mnormalized\u001b[0m\u001b[0;34m,\u001b[0m \u001b[0mnan\u001b[0m\u001b[0;34m=\u001b[0m\u001b[0;36m0.0\u001b[0m\u001b[0;34m,\u001b[0m \u001b[0mposinf\u001b[0m\u001b[0;34m=\u001b[0m\u001b[0;36m0.0\u001b[0m\u001b[0;34m,\u001b[0m \u001b[0mneginf\u001b[0m\u001b[0;34m=\u001b[0m\u001b[0;36m0.0\u001b[0m\u001b[0;34m)\u001b[0m\u001b[0;34m\u001b[0m\u001b[0;34m\u001b[0m\u001b[0m\n\u001b[0;32m---> 31\u001b[0;31m   new_img = nib.Nifti1Image(\n\u001b[0m\u001b[1;32m     32\u001b[0m         \u001b[0mnormalized\u001b[0m\u001b[0;34m,\u001b[0m\u001b[0;34m\u001b[0m\u001b[0;34m\u001b[0m\u001b[0m\n\u001b[1;32m     33\u001b[0m         \u001b[0mspacing\u001b[0m\u001b[0;34m=\u001b[0m\u001b[0msuv_img\u001b[0m\u001b[0;34m.\u001b[0m\u001b[0mspacing\u001b[0m\u001b[0;34m,\u001b[0m\u001b[0;34m\u001b[0m\u001b[0;34m\u001b[0m\u001b[0m\n",
            "\u001b[0;31mTypeError\u001b[0m: Nifti1Pair.__init__() got an unexpected keyword argument 'spacing'"
          ]
        }
      ]
    },
    {
      "cell_type": "code",
      "source": [
        "import ants\n",
        "#loop to go through all teh files\n",
        "suv_img_path=\"/content/sub-patient20_SUV_z.nii\"\n",
        "img=ants.image_read(suv_img_path)\n"
      ],
      "metadata": {
        "id": "sqiR8Y4J6znt"
      },
      "execution_count": null,
      "outputs": []
    },
    {
      "cell_type": "code",
      "source": [
        "\n",
        "img.origin"
      ],
      "metadata": {
        "colab": {
          "base_uri": "https://localhost:8080/"
        },
        "id": "tJ-_gNM7OPSX",
        "outputId": "ea4d0b02-bf60-48d5-e27b-b666b82f6ba9"
      },
      "execution_count": null,
      "outputs": [
        {
          "output_type": "execute_result",
          "data": {
            "text/plain": [
              "(-270.0, -306.0, -72.0)"
            ]
          },
          "metadata": {},
          "execution_count": 12
        }
      ]
    },
    {
      "cell_type": "code",
      "source": [
        "img.shape"
      ],
      "metadata": {
        "colab": {
          "base_uri": "https://localhost:8080/"
        },
        "id": "MG4SfH_aDOXK",
        "outputId": "75528973-7bec-49ba-9a20-b692bcb94e18"
      },
      "execution_count": null,
      "outputs": [
        {
          "output_type": "execute_result",
          "data": {
            "text/plain": [
              "(181, 217, 181)"
            ]
          },
          "metadata": {},
          "execution_count": 13
        }
      ]
    },
    {
      "cell_type": "code",
      "source": [
        "import numpy as np\n",
        "print(\"CBF Image Intensity Range:\", np.min(cbf_img.numpy()),',', np.max(cbf_img.numpy()))\n",
        "print(\"SUV Image Intensity Range:\", np.min(suv_img.numpy()),',', np.max(suv_img.numpy()))\n"
      ],
      "metadata": {
        "colab": {
          "base_uri": "https://localhost:8080/"
        },
        "id": "GNaHLN6fDREy",
        "outputId": "cb8b4e48-04af-4c04-e167-24e51cdce62f"
      },
      "execution_count": null,
      "outputs": [
        {
          "output_type": "stream",
          "name": "stdout",
          "text": [
            "CBF Image Intensity Range: 0.0 , 280.5342\n",
            "SUV Image Intensity Range: -2.7347765 , 3.4965055\n"
          ]
        }
      ]
    },
    {
      "cell_type": "code",
      "source": [],
      "metadata": {
        "id": "tSyJd0NqDa_R"
      },
      "execution_count": null,
      "outputs": []
    }
  ]
}